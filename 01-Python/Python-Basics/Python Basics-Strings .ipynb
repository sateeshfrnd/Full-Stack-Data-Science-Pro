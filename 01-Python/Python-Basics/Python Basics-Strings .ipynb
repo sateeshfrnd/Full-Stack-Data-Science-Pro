{
 "cells": [
  {
   "cell_type": "markdown",
   "id": "36edfc28-5ffb-4fbb-be07-ccf3cd1e968f",
   "metadata": {},
   "source": [
    "# TOPIC: String Based Assignment Problem"
   ]
  },
  {
   "cell_type": "markdown",
   "id": "4f53349d-fb25-4b99-b7c2-640cea402798",
   "metadata": {},
   "source": [
    "### 1. Write a program to reverse a string."
   ]
  },
  {
   "cell_type": "code",
   "execution_count": 1,
   "id": "51c72b72-f402-428e-88a8-22a4ba8a55eb",
   "metadata": {
    "tags": []
   },
   "outputs": [
    {
     "name": "stdin",
     "output_type": "stream",
     "text": [
      "Enter a string:  Python\n"
     ]
    }
   ],
   "source": [
    "str_input = input(\"Enter a string: \")"
   ]
  },
  {
   "cell_type": "code",
   "execution_count": 2,
   "id": "0fa5613b-b6ac-4741-afee-c9799a4a7c56",
   "metadata": {
    "tags": []
   },
   "outputs": [
    {
     "data": {
      "text/plain": [
       "'nohtyP'"
      ]
     },
     "execution_count": 2,
     "metadata": {},
     "output_type": "execute_result"
    }
   ],
   "source": [
    "reversed_str = str_input[::-1]\n",
    "reversed_str"
   ]
  },
  {
   "cell_type": "code",
   "execution_count": 3,
   "id": "5f543d29-1fda-4449-8005-496d652ce415",
   "metadata": {
    "tags": []
   },
   "outputs": [
    {
     "name": "stdout",
     "output_type": "stream",
     "text": [
      "Reversed string of 'Python' is 'nohtyP'\n"
     ]
    }
   ],
   "source": [
    "print(f\"Reversed string of '{str_input}' is '{reversed_str}'\")"
   ]
  },
  {
   "cell_type": "markdown",
   "id": "906c36d3-b1d4-4d12-86e1-a21922b7baba",
   "metadata": {},
   "source": [
    "### 2. Check if a string is a palindrome."
   ]
  },
  {
   "cell_type": "code",
   "execution_count": 6,
   "id": "9386d61e-4bdf-4b52-bdb2-02635563ea0a",
   "metadata": {
    "tags": []
   },
   "outputs": [],
   "source": [
    "def is_palindrome(text):\n",
    "    reversed_text = text[::-1]\n",
    "    return True if text.lower() == reversed_text.lower() else False"
   ]
  },
  {
   "cell_type": "code",
   "execution_count": 7,
   "id": "c2a20dff-5ecc-4836-9585-02187e2790f4",
   "metadata": {
    "tags": []
   },
   "outputs": [
    {
     "name": "stdin",
     "output_type": "stream",
     "text": [
      "Enter a string:  python\n"
     ]
    },
    {
     "data": {
      "text/plain": [
       "False"
      ]
     },
     "execution_count": 7,
     "metadata": {},
     "output_type": "execute_result"
    }
   ],
   "source": [
    "is_palindrome(input(\"Enter a string: \"))"
   ]
  },
  {
   "cell_type": "code",
   "execution_count": 8,
   "id": "a96b64db-7fa1-4719-9dba-fb7049a3f8cd",
   "metadata": {
    "tags": []
   },
   "outputs": [
    {
     "name": "stdin",
     "output_type": "stream",
     "text": [
      "Enter a string:  madam\n"
     ]
    },
    {
     "data": {
      "text/plain": [
       "True"
      ]
     },
     "execution_count": 8,
     "metadata": {},
     "output_type": "execute_result"
    }
   ],
   "source": [
    "is_palindrome(input(\"Enter a string: \"))"
   ]
  },
  {
   "cell_type": "markdown",
   "id": "23d2c11d-5d36-451d-beba-9d0e1e7bf168",
   "metadata": {},
   "source": [
    "### 3. Convert a string to uppercase."
   ]
  },
  {
   "cell_type": "code",
   "execution_count": 9,
   "id": "6f5bb80c-4e11-442e-a763-d53e8ceaf4ff",
   "metadata": {
    "tags": []
   },
   "outputs": [
    {
     "name": "stdin",
     "output_type": "stream",
     "text": [
      "Enter a string:  Python Programming\n"
     ]
    }
   ],
   "source": [
    "input_text = input(\"Enter a string: \")"
   ]
  },
  {
   "cell_type": "code",
   "execution_count": 10,
   "id": "fd508377-f0a2-46bc-860d-8d1b3cd2709c",
   "metadata": {
    "tags": []
   },
   "outputs": [],
   "source": [
    "upper_text = input_text.upper()"
   ]
  },
  {
   "cell_type": "code",
   "execution_count": 11,
   "id": "3628a349-e2ae-446c-ade8-a2dc52cca1e3",
   "metadata": {
    "tags": []
   },
   "outputs": [
    {
     "name": "stdout",
     "output_type": "stream",
     "text": [
      "PYTHON PROGRAMMING\n"
     ]
    }
   ],
   "source": [
    "print(upper_text)"
   ]
  },
  {
   "cell_type": "markdown",
   "id": "b5d3bce1-3409-41cf-8bea-b692186caec5",
   "metadata": {},
   "source": [
    "### 4. Convert a string to lowercase."
   ]
  },
  {
   "cell_type": "code",
   "execution_count": 12,
   "id": "b8510c03-0291-4283-b1a8-963857b43bcf",
   "metadata": {
    "tags": []
   },
   "outputs": [
    {
     "name": "stdin",
     "output_type": "stream",
     "text": [
      "Enter a string:  Python Programming\n"
     ]
    }
   ],
   "source": [
    "input_text = input(\"Enter a string: \")"
   ]
  },
  {
   "cell_type": "code",
   "execution_count": 14,
   "id": "ed353294-907c-4a66-b49a-a613f44d6157",
   "metadata": {
    "tags": []
   },
   "outputs": [],
   "source": [
    "lower_text = input_text.lower()"
   ]
  },
  {
   "cell_type": "code",
   "execution_count": 15,
   "id": "5f9ccccc-4521-4895-bb05-62c3a6108a99",
   "metadata": {
    "tags": []
   },
   "outputs": [
    {
     "name": "stdout",
     "output_type": "stream",
     "text": [
      "python programming\n"
     ]
    }
   ],
   "source": [
    "print(lower_text)"
   ]
  },
  {
   "cell_type": "markdown",
   "id": "bc9f0216-c041-4a2d-b378-dd2871611ad8",
   "metadata": {},
   "source": [
    "### 5. Count the number of vowels in a string."
   ]
  },
  {
   "cell_type": "code",
   "execution_count": 20,
   "id": "eb4335a5-7b84-4fea-8ef7-11f777c952f7",
   "metadata": {
    "tags": []
   },
   "outputs": [],
   "source": [
    "def get_number_vowels(text : str):\n",
    "    vowels= 'AEIOUaeiou'\n",
    "    vowels_char = [c for c in text if c in vowels]\n",
    "    print(str(vowels_char))\n",
    "    return len(vowels_char)   "
   ]
  },
  {
   "cell_type": "code",
   "execution_count": 22,
   "id": "d7fb5785-8789-45fc-a6b1-37944910bdd2",
   "metadata": {
    "tags": []
   },
   "outputs": [
    {
     "name": "stdout",
     "output_type": "stream",
     "text": [
      "['o', 'o', 'a', 'i']\n"
     ]
    }
   ],
   "source": [
    "vowels_count = get_number_vowels(\"Python Programming\")"
   ]
  },
  {
   "cell_type": "code",
   "execution_count": 23,
   "id": "965c447e-f0e5-40f6-a9c2-c92803e0b51d",
   "metadata": {
    "tags": []
   },
   "outputs": [
    {
     "name": "stdout",
     "output_type": "stream",
     "text": [
      "4 vowels in given text\n"
     ]
    }
   ],
   "source": [
    "print(f\"{vowels_count} vowels in given text\") "
   ]
  },
  {
   "cell_type": "code",
   "execution_count": 24,
   "id": "c8306f82-88e9-493a-9e9a-893706b2c250",
   "metadata": {
    "tags": []
   },
   "outputs": [
    {
     "name": "stdin",
     "output_type": "stream",
     "text": [
      "Enter a string:  hello world\n"
     ]
    },
    {
     "name": "stdout",
     "output_type": "stream",
     "text": [
      "['e', 'o', 'o']\n",
      "3\n"
     ]
    }
   ],
   "source": [
    "print(get_number_vowels(input(\"Enter a string: \")))"
   ]
  },
  {
   "cell_type": "markdown",
   "id": "31d652fd-29a0-4aa4-942f-b09b9e8c6ab7",
   "metadata": {},
   "source": [
    "### 6. Count the number of consonants in a string."
   ]
  },
  {
   "cell_type": "code",
   "execution_count": 31,
   "id": "fe62c06d-6a58-43f5-bac3-7e3d82275f05",
   "metadata": {
    "tags": []
   },
   "outputs": [],
   "source": [
    "def get_consonants_count(text):\n",
    "    vowels= 'AEIOUaeiou'\n",
    "    consonant_chars = [c for c in text if (c not in vowels) and ord(c.upper()) >= 65 and ord(c.upper()) <= 90 ]\n",
    "    print(str(consonant_chars))\n",
    "    return f\"Number of consonants = {len(consonant_chars)}\" "
   ]
  },
  {
   "cell_type": "code",
   "execution_count": 33,
   "id": "689a7c07-f300-4056-9121-5fa9f7529abf",
   "metadata": {
    "tags": []
   },
   "outputs": [
    {
     "name": "stdin",
     "output_type": "stream",
     "text": [
      "Enter a string:  Python\n"
     ]
    },
    {
     "name": "stdout",
     "output_type": "stream",
     "text": [
      "['P', 'y', 't', 'h', 'n']\n",
      "Number of consonants = 5\n"
     ]
    }
   ],
   "source": [
    "print(get_consonants_count(input(\"Enter a string: \")))"
   ]
  },
  {
   "cell_type": "code",
   "execution_count": 34,
   "id": "226347f5-3e08-4c2a-b566-dcd99bb06e13",
   "metadata": {
    "tags": []
   },
   "outputs": [
    {
     "name": "stdin",
     "output_type": "stream",
     "text": [
      "Enter a string:  Satish Kumar\n"
     ]
    },
    {
     "name": "stdout",
     "output_type": "stream",
     "text": [
      "['S', 't', 's', 'h', 'K', 'm', 'r']\n",
      "Number of consonants = 7\n"
     ]
    }
   ],
   "source": [
    "print(get_consonants_count(input(\"Enter a string: \")))"
   ]
  },
  {
   "cell_type": "markdown",
   "id": "494f7756-6701-45cb-881a-c825a1ec5195",
   "metadata": {},
   "source": [
    "### 7. Remove all whitespaces from a string."
   ]
  },
  {
   "cell_type": "code",
   "execution_count": 35,
   "id": "5cca4b3e-6912-4444-95a8-bd418b5db629",
   "metadata": {
    "tags": []
   },
   "outputs": [],
   "source": [
    "def remove_whitespaces(text):\n",
    "    return text.replace(\" \", \"\")"
   ]
  },
  {
   "cell_type": "code",
   "execution_count": 36,
   "id": "20695ba7-4b9e-4e6e-8861-86ee83ada7b5",
   "metadata": {
    "tags": []
   },
   "outputs": [
    {
     "name": "stdin",
     "output_type": "stream",
     "text": [
      "Enter a string:  Python Programming\n"
     ]
    },
    {
     "name": "stdout",
     "output_type": "stream",
     "text": [
      "Removed whitespaces = PythonProgramming\n"
     ]
    }
   ],
   "source": [
    "input_text = input(\"Enter a string: \")\n",
    "print(f'Removed whitespaces = {remove_whitespaces(input_text)}')"
   ]
  },
  {
   "cell_type": "markdown",
   "id": "d856ccc6-21a5-41df-a72e-5eb9f02b9cac",
   "metadata": {},
   "source": [
    "### 8. Find the length of a string without using the `len()` function."
   ]
  },
  {
   "cell_type": "code",
   "execution_count": 44,
   "id": "85923720-2b43-4d44-9aa0-5d8dce528a33",
   "metadata": {
    "tags": []
   },
   "outputs": [],
   "source": [
    "def find_text_len(text):\n",
    "    return sum( 1 for i in text);"
   ]
  },
  {
   "cell_type": "code",
   "execution_count": 45,
   "id": "a16aca4c-241b-4cf7-9b00-123f7084bf18",
   "metadata": {
    "tags": []
   },
   "outputs": [
    {
     "name": "stdin",
     "output_type": "stream",
     "text": [
      "Enter a string:  Python Programming\n"
     ]
    },
    {
     "name": "stdout",
     "output_type": "stream",
     "text": [
      "Length of the Python Programming = 18\n"
     ]
    }
   ],
   "source": [
    "input_text = input(\"Enter a string: \")\n",
    "print(f'Length of the {input_text} = {find_text_len(input_text)}')"
   ]
  },
  {
   "cell_type": "markdown",
   "id": "292ffe7e-b27b-41be-b22d-52b84bece8f4",
   "metadata": {
    "tags": []
   },
   "source": [
    "### 9. Check if a string contains a specific word."
   ]
  },
  {
   "cell_type": "code",
   "execution_count": 46,
   "id": "4da880f1-ba19-4926-8ca1-827729fa4dcd",
   "metadata": {
    "tags": []
   },
   "outputs": [],
   "source": [
    "def is_contain(input_text, text_search):\n",
    "    if text_search in input_text.split():\n",
    "        return True\n",
    "    return False"
   ]
  },
  {
   "cell_type": "code",
   "execution_count": 47,
   "id": "868fe5e6-5c0c-4dab-a108-07c42e012aae",
   "metadata": {
    "tags": []
   },
   "outputs": [
    {
     "data": {
      "text/plain": [
       "True"
      ]
     },
     "execution_count": 47,
     "metadata": {},
     "output_type": "execute_result"
    }
   ],
   "source": [
    "is_contain('Python Programming', 'Python')"
   ]
  },
  {
   "cell_type": "code",
   "execution_count": 48,
   "id": "1f751b2f-01c5-4e37-849c-f29ebed7838d",
   "metadata": {
    "tags": []
   },
   "outputs": [
    {
     "data": {
      "text/plain": [
       "False"
      ]
     },
     "execution_count": 48,
     "metadata": {},
     "output_type": "execute_result"
    }
   ],
   "source": [
    "is_contain('hello world', 'hi')"
   ]
  },
  {
   "cell_type": "markdown",
   "id": "f52b9224-eea4-4e9e-9613-891ecb1bb4f9",
   "metadata": {},
   "source": [
    "### 10. Replace a word in a string with another word."
   ]
  },
  {
   "cell_type": "code",
   "execution_count": 52,
   "id": "0295b2b5-0de3-4e44-a38b-604779c5cb29",
   "metadata": {
    "tags": []
   },
   "outputs": [],
   "source": [
    "def replace_text(input_text, search_text, replace_text):\n",
    "   return input_text.replace(search_text, replace_text)"
   ]
  },
  {
   "cell_type": "code",
   "execution_count": 54,
   "id": "64b65520-e3a7-4da6-8fb4-0b00a6539ad1",
   "metadata": {
    "tags": []
   },
   "outputs": [
    {
     "data": {
      "text/plain": [
       "'Learning Python is so easy'"
      ]
     },
     "execution_count": 54,
     "metadata": {},
     "output_type": "execute_result"
    }
   ],
   "source": [
    "replace_text('Learning Python is so difficult', 'difficult', 'easy')"
   ]
  },
  {
   "cell_type": "markdown",
   "id": "8afd1bb8-ea64-4648-8a01-e402118e3e49",
   "metadata": {},
   "source": [
    "### 11. Count the occurrences of a word in a string."
   ]
  },
  {
   "cell_type": "code",
   "execution_count": 57,
   "id": "8e6e26a9-c126-49b3-92b5-1f07fb5cbff8",
   "metadata": {
    "tags": []
   },
   "outputs": [],
   "source": [
    "def get_occurrences_count(input_text, text_search):\n",
    "    return sum(1 if word == text_search else 0 for word in input_text.split() );"
   ]
  },
  {
   "cell_type": "code",
   "execution_count": 59,
   "id": "833a8db9-4d33-480e-b42f-bc8327b62993",
   "metadata": {
    "tags": []
   },
   "outputs": [
    {
     "data": {
      "text/plain": [
       "3"
      ]
     },
     "execution_count": 59,
     "metadata": {},
     "output_type": "execute_result"
    }
   ],
   "source": [
    "get_occurrences_count('Python is so so so easy','so')"
   ]
  },
  {
   "cell_type": "code",
   "execution_count": 60,
   "id": "4c54c165-3b39-4738-b1a7-df8d37137d8f",
   "metadata": {
    "tags": []
   },
   "outputs": [
    {
     "data": {
      "text/plain": [
       "0"
      ]
     },
     "execution_count": 60,
     "metadata": {},
     "output_type": "execute_result"
    }
   ],
   "source": [
    "get_occurrences_count('Python is so so easy','difficult')"
   ]
  },
  {
   "cell_type": "markdown",
   "id": "b305500e-f548-4eef-993e-a00a0e4e6639",
   "metadata": {},
   "source": [
    "### 12. Find the first occurrence of a word in a string."
   ]
  },
  {
   "cell_type": "code",
   "execution_count": 61,
   "id": "fd9fbbdf-e626-4c85-92fb-52b18310a226",
   "metadata": {
    "tags": []
   },
   "outputs": [],
   "source": [
    "def get_first_occurrences_index(input_text, text_search):\n",
    "    return input_text.find(text_search)"
   ]
  },
  {
   "cell_type": "code",
   "execution_count": 62,
   "id": "326e9fb9-2edd-4444-a61c-6558409e2dc8",
   "metadata": {
    "tags": []
   },
   "outputs": [
    {
     "data": {
      "text/plain": [
       "10"
      ]
     },
     "execution_count": 62,
     "metadata": {},
     "output_type": "execute_result"
    }
   ],
   "source": [
    "get_first_occurrences_index('Python is so so so easy','so')"
   ]
  },
  {
   "cell_type": "markdown",
   "id": "a6055db9-f9d1-438e-877d-297f25921e0e",
   "metadata": {},
   "source": [
    "### 13. Find the last occurrence of a word in a string."
   ]
  },
  {
   "cell_type": "code",
   "execution_count": 65,
   "id": "54b16386-7ae3-4667-953c-c5766289e5e7",
   "metadata": {
    "tags": []
   },
   "outputs": [],
   "source": [
    "def get_last_occurrences_index(input_text, text_search):\n",
    "    return input_text.rfind(text_search)"
   ]
  },
  {
   "cell_type": "code",
   "execution_count": 66,
   "id": "9cd3daf8-bd3d-4b9d-85b7-eee255b9ffe0",
   "metadata": {
    "tags": []
   },
   "outputs": [
    {
     "data": {
      "text/plain": [
       "16"
      ]
     },
     "execution_count": 66,
     "metadata": {},
     "output_type": "execute_result"
    }
   ],
   "source": [
    "get_last_occurrences_index('Python is so so so easy','so')"
   ]
  },
  {
   "cell_type": "markdown",
   "id": "185ab507-6a67-4f18-8e4e-a7f76bce4db4",
   "metadata": {
    "tags": []
   },
   "source": [
    "### 14. Split a string into a list of words."
   ]
  },
  {
   "cell_type": "code",
   "execution_count": 68,
   "id": "5f244a34-75f9-4e7f-ad16-43bdf16d6f5b",
   "metadata": {
    "tags": []
   },
   "outputs": [],
   "source": [
    "def split_text_list_words(input_text):\n",
    "    return input_text.split()"
   ]
  },
  {
   "cell_type": "code",
   "execution_count": 69,
   "id": "2ac67d48-7112-4556-b0a4-dad781f585da",
   "metadata": {
    "tags": []
   },
   "outputs": [
    {
     "data": {
      "text/plain": [
       "['Python', 'is', 'so', 'so', 'so', 'easy']"
      ]
     },
     "execution_count": 69,
     "metadata": {},
     "output_type": "execute_result"
    }
   ],
   "source": [
    "split_text_list_words('Python is so so so easy')"
   ]
  },
  {
   "cell_type": "markdown",
   "id": "e2bbbb73-788b-48a9-8780-5900c27baeb9",
   "metadata": {},
   "source": [
    "### 15. Join a list of words into a string"
   ]
  },
  {
   "cell_type": "code",
   "execution_count": 70,
   "id": "abbd4892-73cd-4e47-aa95-d26b3cd6106a",
   "metadata": {
    "tags": []
   },
   "outputs": [],
   "source": [
    "words = ['Pyhton', 'Programming']"
   ]
  },
  {
   "cell_type": "code",
   "execution_count": 73,
   "id": "808b8efb-e952-49d8-a427-3d934476fe0e",
   "metadata": {
    "tags": []
   },
   "outputs": [
    {
     "data": {
      "text/plain": [
       "'Pyhton Programming'"
      ]
     },
     "execution_count": 73,
     "metadata": {},
     "output_type": "execute_result"
    }
   ],
   "source": [
    "' '.join(words)"
   ]
  },
  {
   "cell_type": "code",
   "execution_count": null,
   "id": "b6cf2dae-2c83-4c42-8068-444726e1d520",
   "metadata": {},
   "outputs": [],
   "source": []
  }
 ],
 "metadata": {
  "kernelspec": {
   "display_name": "Python 3 (ipykernel)",
   "language": "python",
   "name": "python3"
  },
  "language_info": {
   "codemirror_mode": {
    "name": "ipython",
    "version": 3
   },
   "file_extension": ".py",
   "mimetype": "text/x-python",
   "name": "python",
   "nbconvert_exporter": "python",
   "pygments_lexer": "ipython3",
   "version": "3.11.4"
  }
 },
 "nbformat": 4,
 "nbformat_minor": 5
}
