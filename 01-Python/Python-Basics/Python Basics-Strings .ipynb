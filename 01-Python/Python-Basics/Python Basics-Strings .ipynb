{
 "cells": [
  {
   "cell_type": "markdown",
   "id": "36edfc28-5ffb-4fbb-be07-ccf3cd1e968f",
   "metadata": {},
   "source": [
    "# TOPIC: String Based Assignment Problem"
   ]
  },
  {
   "cell_type": "markdown",
   "id": "4f53349d-fb25-4b99-b7c2-640cea402798",
   "metadata": {},
   "source": [
    "### 1. Write a program to reverse a string."
   ]
  },
  {
   "cell_type": "code",
   "execution_count": 1,
   "id": "51c72b72-f402-428e-88a8-22a4ba8a55eb",
   "metadata": {
    "tags": []
   },
   "outputs": [
    {
     "name": "stdin",
     "output_type": "stream",
     "text": [
      "Enter a string:  Python\n"
     ]
    }
   ],
   "source": [
    "str_input = input(\"Enter a string: \")"
   ]
  },
  {
   "cell_type": "code",
   "execution_count": 2,
   "id": "0fa5613b-b6ac-4741-afee-c9799a4a7c56",
   "metadata": {
    "tags": []
   },
   "outputs": [
    {
     "data": {
      "text/plain": [
       "'nohtyP'"
      ]
     },
     "execution_count": 2,
     "metadata": {},
     "output_type": "execute_result"
    }
   ],
   "source": [
    "reversed_str = str_input[::-1]\n",
    "reversed_str"
   ]
  },
  {
   "cell_type": "code",
   "execution_count": 3,
   "id": "5f543d29-1fda-4449-8005-496d652ce415",
   "metadata": {
    "tags": []
   },
   "outputs": [
    {
     "name": "stdout",
     "output_type": "stream",
     "text": [
      "Reversed string of 'Python' is 'nohtyP'\n"
     ]
    }
   ],
   "source": [
    "print(f\"Reversed string of '{str_input}' is '{reversed_str}'\")"
   ]
  },
  {
   "cell_type": "markdown",
   "id": "906c36d3-b1d4-4d12-86e1-a21922b7baba",
   "metadata": {},
   "source": [
    "### 2. Check if a string is a palindrome."
   ]
  },
  {
   "cell_type": "code",
   "execution_count": 6,
   "id": "9386d61e-4bdf-4b52-bdb2-02635563ea0a",
   "metadata": {
    "tags": []
   },
   "outputs": [],
   "source": [
    "def is_palindrome(text):\n",
    "    reversed_text = text[::-1]\n",
    "    return True if text.lower() == reversed_text.lower() else False"
   ]
  },
  {
   "cell_type": "code",
   "execution_count": 7,
   "id": "c2a20dff-5ecc-4836-9585-02187e2790f4",
   "metadata": {
    "tags": []
   },
   "outputs": [
    {
     "name": "stdin",
     "output_type": "stream",
     "text": [
      "Enter a string:  python\n"
     ]
    },
    {
     "data": {
      "text/plain": [
       "False"
      ]
     },
     "execution_count": 7,
     "metadata": {},
     "output_type": "execute_result"
    }
   ],
   "source": [
    "is_palindrome(input(\"Enter a string: \"))"
   ]
  },
  {
   "cell_type": "code",
   "execution_count": 8,
   "id": "a96b64db-7fa1-4719-9dba-fb7049a3f8cd",
   "metadata": {
    "tags": []
   },
   "outputs": [
    {
     "name": "stdin",
     "output_type": "stream",
     "text": [
      "Enter a string:  madam\n"
     ]
    },
    {
     "data": {
      "text/plain": [
       "True"
      ]
     },
     "execution_count": 8,
     "metadata": {},
     "output_type": "execute_result"
    }
   ],
   "source": [
    "is_palindrome(input(\"Enter a string: \"))"
   ]
  },
  {
   "cell_type": "markdown",
   "id": "23d2c11d-5d36-451d-beba-9d0e1e7bf168",
   "metadata": {},
   "source": [
    "### 3. Convert a string to uppercase."
   ]
  },
  {
   "cell_type": "code",
   "execution_count": 9,
   "id": "6f5bb80c-4e11-442e-a763-d53e8ceaf4ff",
   "metadata": {
    "tags": []
   },
   "outputs": [
    {
     "name": "stdin",
     "output_type": "stream",
     "text": [
      "Enter a string:  Python Programming\n"
     ]
    }
   ],
   "source": [
    "input_text = input(\"Enter a string: \")"
   ]
  },
  {
   "cell_type": "code",
   "execution_count": 10,
   "id": "fd508377-f0a2-46bc-860d-8d1b3cd2709c",
   "metadata": {
    "tags": []
   },
   "outputs": [],
   "source": [
    "upper_text = input_text.upper()"
   ]
  },
  {
   "cell_type": "code",
   "execution_count": 11,
   "id": "3628a349-e2ae-446c-ade8-a2dc52cca1e3",
   "metadata": {
    "tags": []
   },
   "outputs": [
    {
     "name": "stdout",
     "output_type": "stream",
     "text": [
      "PYTHON PROGRAMMING\n"
     ]
    }
   ],
   "source": [
    "print(upper_text)"
   ]
  },
  {
   "cell_type": "markdown",
   "id": "b5d3bce1-3409-41cf-8bea-b692186caec5",
   "metadata": {},
   "source": [
    "### 4. Convert a string to lowercase."
   ]
  },
  {
   "cell_type": "code",
   "execution_count": 12,
   "id": "b8510c03-0291-4283-b1a8-963857b43bcf",
   "metadata": {
    "tags": []
   },
   "outputs": [
    {
     "name": "stdin",
     "output_type": "stream",
     "text": [
      "Enter a string:  Python Programming\n"
     ]
    }
   ],
   "source": [
    "input_text = input(\"Enter a string: \")"
   ]
  },
  {
   "cell_type": "code",
   "execution_count": 14,
   "id": "ed353294-907c-4a66-b49a-a613f44d6157",
   "metadata": {
    "tags": []
   },
   "outputs": [],
   "source": [
    "lower_text = input_text.lower()"
   ]
  },
  {
   "cell_type": "code",
   "execution_count": 15,
   "id": "5f9ccccc-4521-4895-bb05-62c3a6108a99",
   "metadata": {
    "tags": []
   },
   "outputs": [
    {
     "name": "stdout",
     "output_type": "stream",
     "text": [
      "python programming\n"
     ]
    }
   ],
   "source": [
    "print(lower_text)"
   ]
  },
  {
   "cell_type": "markdown",
   "id": "bc9f0216-c041-4a2d-b378-dd2871611ad8",
   "metadata": {},
   "source": [
    "### 5. Count the number of vowels in a string."
   ]
  },
  {
   "cell_type": "code",
   "execution_count": 20,
   "id": "eb4335a5-7b84-4fea-8ef7-11f777c952f7",
   "metadata": {
    "tags": []
   },
   "outputs": [],
   "source": [
    "def get_number_vowels(text : str):\n",
    "    vowels= 'AEIOUaeiou'\n",
    "    vowels_char = [c for c in text if c in vowels]\n",
    "    print(str(vowels_char))\n",
    "    return len(vowels_char)   "
   ]
  },
  {
   "cell_type": "code",
   "execution_count": 22,
   "id": "d7fb5785-8789-45fc-a6b1-37944910bdd2",
   "metadata": {
    "tags": []
   },
   "outputs": [
    {
     "name": "stdout",
     "output_type": "stream",
     "text": [
      "['o', 'o', 'a', 'i']\n"
     ]
    }
   ],
   "source": [
    "vowels_count = get_number_vowels(\"Python Programming\")"
   ]
  },
  {
   "cell_type": "code",
   "execution_count": 23,
   "id": "965c447e-f0e5-40f6-a9c2-c92803e0b51d",
   "metadata": {
    "tags": []
   },
   "outputs": [
    {
     "name": "stdout",
     "output_type": "stream",
     "text": [
      "4 vowels in given text\n"
     ]
    }
   ],
   "source": [
    "print(f\"{vowels_count} vowels in given text\") "
   ]
  },
  {
   "cell_type": "code",
   "execution_count": 24,
   "id": "c8306f82-88e9-493a-9e9a-893706b2c250",
   "metadata": {
    "tags": []
   },
   "outputs": [
    {
     "name": "stdin",
     "output_type": "stream",
     "text": [
      "Enter a string:  hello world\n"
     ]
    },
    {
     "name": "stdout",
     "output_type": "stream",
     "text": [
      "['e', 'o', 'o']\n",
      "3\n"
     ]
    }
   ],
   "source": [
    "print(get_number_vowels(input(\"Enter a string: \")))"
   ]
  },
  {
   "cell_type": "markdown",
   "id": "31d652fd-29a0-4aa4-942f-b09b9e8c6ab7",
   "metadata": {},
   "source": [
    "### 6. Count the number of consonants in a string."
   ]
  },
  {
   "cell_type": "code",
   "execution_count": 31,
   "id": "fe62c06d-6a58-43f5-bac3-7e3d82275f05",
   "metadata": {
    "tags": []
   },
   "outputs": [],
   "source": [
    "def get_consonants_count(text):\n",
    "    vowels= 'AEIOUaeiou'\n",
    "    consonant_chars = [c for c in text if (c not in vowels) and ord(c.upper()) >= 65 and ord(c.upper()) <= 90 ]\n",
    "    print(str(consonant_chars))\n",
    "    return f\"Number of consonants = {len(consonant_chars)}\" "
   ]
  },
  {
   "cell_type": "code",
   "execution_count": 33,
   "id": "689a7c07-f300-4056-9121-5fa9f7529abf",
   "metadata": {
    "tags": []
   },
   "outputs": [
    {
     "name": "stdin",
     "output_type": "stream",
     "text": [
      "Enter a string:  Python\n"
     ]
    },
    {
     "name": "stdout",
     "output_type": "stream",
     "text": [
      "['P', 'y', 't', 'h', 'n']\n",
      "Number of consonants = 5\n"
     ]
    }
   ],
   "source": [
    "print(get_consonants_count(input(\"Enter a string: \")))"
   ]
  },
  {
   "cell_type": "code",
   "execution_count": 34,
   "id": "226347f5-3e08-4c2a-b566-dcd99bb06e13",
   "metadata": {
    "tags": []
   },
   "outputs": [
    {
     "name": "stdin",
     "output_type": "stream",
     "text": [
      "Enter a string:  Satish Kumar\n"
     ]
    },
    {
     "name": "stdout",
     "output_type": "stream",
     "text": [
      "['S', 't', 's', 'h', 'K', 'm', 'r']\n",
      "Number of consonants = 7\n"
     ]
    }
   ],
   "source": [
    "print(get_consonants_count(input(\"Enter a string: \")))"
   ]
  },
  {
   "cell_type": "markdown",
   "id": "494f7756-6701-45cb-881a-c825a1ec5195",
   "metadata": {},
   "source": [
    "### 7. Remove all whitespaces from a string."
   ]
  },
  {
   "cell_type": "code",
   "execution_count": 35,
   "id": "5cca4b3e-6912-4444-95a8-bd418b5db629",
   "metadata": {
    "tags": []
   },
   "outputs": [],
   "source": [
    "def remove_whitespaces(text):\n",
    "    return text.replace(\" \", \"\")"
   ]
  },
  {
   "cell_type": "code",
   "execution_count": 36,
   "id": "20695ba7-4b9e-4e6e-8861-86ee83ada7b5",
   "metadata": {
    "tags": []
   },
   "outputs": [
    {
     "name": "stdin",
     "output_type": "stream",
     "text": [
      "Enter a string:  Python Programming\n"
     ]
    },
    {
     "name": "stdout",
     "output_type": "stream",
     "text": [
      "Removed whitespaces = PythonProgramming\n"
     ]
    }
   ],
   "source": [
    "input_text = input(\"Enter a string: \")\n",
    "print(f'Removed whitespaces = {remove_whitespaces(input_text)}')"
   ]
  },
  {
   "cell_type": "markdown",
   "id": "d856ccc6-21a5-41df-a72e-5eb9f02b9cac",
   "metadata": {},
   "source": [
    "### 8. Find the length of a string without using the `len()` function."
   ]
  },
  {
   "cell_type": "code",
   "execution_count": 44,
   "id": "85923720-2b43-4d44-9aa0-5d8dce528a33",
   "metadata": {
    "tags": []
   },
   "outputs": [],
   "source": [
    "def find_text_len(text):\n",
    "    return sum( 1 for i in text);"
   ]
  },
  {
   "cell_type": "code",
   "execution_count": 45,
   "id": "a16aca4c-241b-4cf7-9b00-123f7084bf18",
   "metadata": {
    "tags": []
   },
   "outputs": [
    {
     "name": "stdin",
     "output_type": "stream",
     "text": [
      "Enter a string:  Python Programming\n"
     ]
    },
    {
     "name": "stdout",
     "output_type": "stream",
     "text": [
      "Length of the Python Programming = 18\n"
     ]
    }
   ],
   "source": [
    "input_text = input(\"Enter a string: \")\n",
    "print(f'Length of the {input_text} = {find_text_len(input_text)}')"
   ]
  },
  {
   "cell_type": "markdown",
   "id": "292ffe7e-b27b-41be-b22d-52b84bece8f4",
   "metadata": {
    "tags": []
   },
   "source": [
    "### 9. Check if a string contains a specific word."
   ]
  },
  {
   "cell_type": "code",
   "execution_count": 46,
   "id": "4da880f1-ba19-4926-8ca1-827729fa4dcd",
   "metadata": {
    "tags": []
   },
   "outputs": [],
   "source": [
    "def is_contain(input_text, text_search):\n",
    "    if text_search in input_text.split():\n",
    "        return True\n",
    "    return False"
   ]
  },
  {
   "cell_type": "code",
   "execution_count": 47,
   "id": "868fe5e6-5c0c-4dab-a108-07c42e012aae",
   "metadata": {
    "tags": []
   },
   "outputs": [
    {
     "data": {
      "text/plain": [
       "True"
      ]
     },
     "execution_count": 47,
     "metadata": {},
     "output_type": "execute_result"
    }
   ],
   "source": [
    "is_contain('Python Programming', 'Python')"
   ]
  },
  {
   "cell_type": "code",
   "execution_count": 48,
   "id": "1f751b2f-01c5-4e37-849c-f29ebed7838d",
   "metadata": {
    "tags": []
   },
   "outputs": [
    {
     "data": {
      "text/plain": [
       "False"
      ]
     },
     "execution_count": 48,
     "metadata": {},
     "output_type": "execute_result"
    }
   ],
   "source": [
    "is_contain('hello world', 'hi')"
   ]
  },
  {
   "cell_type": "markdown",
   "id": "f52b9224-eea4-4e9e-9613-891ecb1bb4f9",
   "metadata": {},
   "source": [
    "### 10. Replace a word in a string with another word."
   ]
  },
  {
   "cell_type": "code",
   "execution_count": 52,
   "id": "0295b2b5-0de3-4e44-a38b-604779c5cb29",
   "metadata": {
    "tags": []
   },
   "outputs": [],
   "source": [
    "def replace_text(input_text, search_text, replace_text):\n",
    "   return input_text.replace(search_text, replace_text)"
   ]
  },
  {
   "cell_type": "code",
   "execution_count": 54,
   "id": "64b65520-e3a7-4da6-8fb4-0b00a6539ad1",
   "metadata": {
    "tags": []
   },
   "outputs": [
    {
     "data": {
      "text/plain": [
       "'Learning Python is so easy'"
      ]
     },
     "execution_count": 54,
     "metadata": {},
     "output_type": "execute_result"
    }
   ],
   "source": [
    "replace_text('Learning Python is so difficult', 'difficult', 'easy')"
   ]
  },
  {
   "cell_type": "markdown",
   "id": "8afd1bb8-ea64-4648-8a01-e402118e3e49",
   "metadata": {},
   "source": [
    "### 11. Count the occurrences of a word in a string."
   ]
  },
  {
   "cell_type": "code",
   "execution_count": 57,
   "id": "8e6e26a9-c126-49b3-92b5-1f07fb5cbff8",
   "metadata": {
    "tags": []
   },
   "outputs": [],
   "source": [
    "def get_occurrences_count(input_text, text_search):\n",
    "    return sum(1 if word == text_search else 0 for word in input_text.split() );"
   ]
  },
  {
   "cell_type": "code",
   "execution_count": 59,
   "id": "833a8db9-4d33-480e-b42f-bc8327b62993",
   "metadata": {
    "tags": []
   },
   "outputs": [
    {
     "data": {
      "text/plain": [
       "3"
      ]
     },
     "execution_count": 59,
     "metadata": {},
     "output_type": "execute_result"
    }
   ],
   "source": [
    "get_occurrences_count('Python is so so so easy','so')"
   ]
  },
  {
   "cell_type": "code",
   "execution_count": 60,
   "id": "4c54c165-3b39-4738-b1a7-df8d37137d8f",
   "metadata": {
    "tags": []
   },
   "outputs": [
    {
     "data": {
      "text/plain": [
       "0"
      ]
     },
     "execution_count": 60,
     "metadata": {},
     "output_type": "execute_result"
    }
   ],
   "source": [
    "get_occurrences_count('Python is so so easy','difficult')"
   ]
  },
  {
   "cell_type": "markdown",
   "id": "b305500e-f548-4eef-993e-a00a0e4e6639",
   "metadata": {},
   "source": [
    "### 12. Find the first occurrence of a word in a string."
   ]
  },
  {
   "cell_type": "code",
   "execution_count": 61,
   "id": "fd9fbbdf-e626-4c85-92fb-52b18310a226",
   "metadata": {
    "tags": []
   },
   "outputs": [],
   "source": [
    "def get_first_occurrences_index(input_text, text_search):\n",
    "    return input_text.find(text_search)"
   ]
  },
  {
   "cell_type": "code",
   "execution_count": 62,
   "id": "326e9fb9-2edd-4444-a61c-6558409e2dc8",
   "metadata": {
    "tags": []
   },
   "outputs": [
    {
     "data": {
      "text/plain": [
       "10"
      ]
     },
     "execution_count": 62,
     "metadata": {},
     "output_type": "execute_result"
    }
   ],
   "source": [
    "get_first_occurrences_index('Python is so so so easy','so')"
   ]
  },
  {
   "cell_type": "markdown",
   "id": "a6055db9-f9d1-438e-877d-297f25921e0e",
   "metadata": {},
   "source": [
    "### 13. Find the last occurrence of a word in a string."
   ]
  },
  {
   "cell_type": "code",
   "execution_count": 65,
   "id": "54b16386-7ae3-4667-953c-c5766289e5e7",
   "metadata": {
    "tags": []
   },
   "outputs": [],
   "source": [
    "def get_last_occurrences_index(input_text, text_search):\n",
    "    return input_text.rfind(text_search)"
   ]
  },
  {
   "cell_type": "code",
   "execution_count": 66,
   "id": "9cd3daf8-bd3d-4b9d-85b7-eee255b9ffe0",
   "metadata": {
    "tags": []
   },
   "outputs": [
    {
     "data": {
      "text/plain": [
       "16"
      ]
     },
     "execution_count": 66,
     "metadata": {},
     "output_type": "execute_result"
    }
   ],
   "source": [
    "get_last_occurrences_index('Python is so so so easy','so')"
   ]
  },
  {
   "cell_type": "markdown",
   "id": "185ab507-6a67-4f18-8e4e-a7f76bce4db4",
   "metadata": {
    "tags": []
   },
   "source": [
    "### 14. Split a string into a list of words."
   ]
  },
  {
   "cell_type": "code",
   "execution_count": 68,
   "id": "5f244a34-75f9-4e7f-ad16-43bdf16d6f5b",
   "metadata": {
    "tags": []
   },
   "outputs": [],
   "source": [
    "def split_text_list_words(input_text):\n",
    "    return input_text.split()"
   ]
  },
  {
   "cell_type": "code",
   "execution_count": 69,
   "id": "2ac67d48-7112-4556-b0a4-dad781f585da",
   "metadata": {
    "tags": []
   },
   "outputs": [
    {
     "data": {
      "text/plain": [
       "['Python', 'is', 'so', 'so', 'so', 'easy']"
      ]
     },
     "execution_count": 69,
     "metadata": {},
     "output_type": "execute_result"
    }
   ],
   "source": [
    "split_text_list_words('Python is so so so easy')"
   ]
  },
  {
   "cell_type": "markdown",
   "id": "e2bbbb73-788b-48a9-8780-5900c27baeb9",
   "metadata": {},
   "source": [
    "### 15. Join a list of words into a string"
   ]
  },
  {
   "cell_type": "code",
   "execution_count": 70,
   "id": "abbd4892-73cd-4e47-aa95-d26b3cd6106a",
   "metadata": {
    "tags": []
   },
   "outputs": [],
   "source": [
    "words = ['Pyhton', 'Programming']"
   ]
  },
  {
   "cell_type": "code",
   "execution_count": 73,
   "id": "808b8efb-e952-49d8-a427-3d934476fe0e",
   "metadata": {
    "tags": []
   },
   "outputs": [
    {
     "data": {
      "text/plain": [
       "'Pyhton Programming'"
      ]
     },
     "execution_count": 73,
     "metadata": {},
     "output_type": "execute_result"
    }
   ],
   "source": [
    "' '.join(words)"
   ]
  },
  {
   "cell_type": "markdown",
   "id": "ea0bf38b-9eee-4206-a84c-8a6b9c61157f",
   "metadata": {},
   "source": [
    "### 16. Convert a string where words are separated by spaces to one where words are separated by underscores."
   ]
  },
  {
   "cell_type": "code",
   "execution_count": 74,
   "id": "3e75fb78-a6a9-4e9e-98fa-e250e8dd7555",
   "metadata": {
    "tags": []
   },
   "outputs": [],
   "source": [
    "input_str = \"Programming in Python\""
   ]
  },
  {
   "cell_type": "code",
   "execution_count": 75,
   "id": "1ea54d62-43a9-4017-8ec0-4bba4ad11012",
   "metadata": {
    "tags": []
   },
   "outputs": [
    {
     "data": {
      "text/plain": [
       "'Programming_in_Python'"
      ]
     },
     "execution_count": 75,
     "metadata": {},
     "output_type": "execute_result"
    }
   ],
   "source": [
    "input_str.replace(' ', '_')"
   ]
  },
  {
   "cell_type": "code",
   "execution_count": 78,
   "id": "944a090d-4680-4bfc-bea2-54cee1202abe",
   "metadata": {
    "tags": []
   },
   "outputs": [
    {
     "data": {
      "text/plain": [
       "'Programming_in_Python'"
      ]
     },
     "execution_count": 78,
     "metadata": {},
     "output_type": "execute_result"
    }
   ],
   "source": [
    "'_'.join(input_str.split())"
   ]
  },
  {
   "cell_type": "markdown",
   "id": "1add9adb-cda9-4fe6-bcd3-dbdebfd01c30",
   "metadata": {},
   "source": [
    "### 17. Check if a string starts with a specific word or phrase."
   ]
  },
  {
   "cell_type": "code",
   "execution_count": 79,
   "id": "3b9dc485-279a-4f96-bd3a-4fb6da12eb9c",
   "metadata": {
    "tags": []
   },
   "outputs": [],
   "source": [
    "def is_starts_with_word(text, word) :\n",
    "    return text.startswith(word)"
   ]
  },
  {
   "cell_type": "code",
   "execution_count": 82,
   "id": "b1e5c294-e2fa-4b30-8b7a-9fced6453ad7",
   "metadata": {
    "tags": []
   },
   "outputs": [
    {
     "data": {
      "text/plain": [
       "True"
      ]
     },
     "execution_count": 82,
     "metadata": {},
     "output_type": "execute_result"
    }
   ],
   "source": [
    "is_starts_with_word('ruchit shiva kumar', 'ruchit')"
   ]
  },
  {
   "cell_type": "code",
   "execution_count": 83,
   "id": "ef22fc4d-dd6c-4515-be51-4de4a6677478",
   "metadata": {
    "tags": []
   },
   "outputs": [
    {
     "data": {
      "text/plain": [
       "False"
      ]
     },
     "execution_count": 83,
     "metadata": {},
     "output_type": "execute_result"
    }
   ],
   "source": [
    "is_starts_with_word('ruchit shiva kumar', 'shiva')"
   ]
  },
  {
   "cell_type": "markdown",
   "id": "369ed755-cb75-4778-ace9-115a07f65769",
   "metadata": {},
   "source": [
    "### 18. Check if a string ends with a specific word or phrase."
   ]
  },
  {
   "cell_type": "code",
   "execution_count": 84,
   "id": "32b49cfb-c8fa-402c-b5f0-1e5ac47ab144",
   "metadata": {
    "tags": []
   },
   "outputs": [],
   "source": [
    "def is_ends_with_word(text, word) :\n",
    "    return text.endswith(word)"
   ]
  },
  {
   "cell_type": "code",
   "execution_count": 85,
   "id": "9fbe1114-fe28-436a-b484-16b38cb93332",
   "metadata": {
    "tags": []
   },
   "outputs": [
    {
     "data": {
      "text/plain": [
       "True"
      ]
     },
     "execution_count": 85,
     "metadata": {},
     "output_type": "execute_result"
    }
   ],
   "source": [
    "is_ends_with_word('ruchit shiva kumar', 'kumar')"
   ]
  },
  {
   "cell_type": "code",
   "execution_count": 86,
   "id": "c2213bde-4fdd-492a-8ba8-8ec4aa1c1208",
   "metadata": {
    "tags": []
   },
   "outputs": [
    {
     "data": {
      "text/plain": [
       "False"
      ]
     },
     "execution_count": 86,
     "metadata": {},
     "output_type": "execute_result"
    }
   ],
   "source": [
    "is_ends_with_word('ruchit shiva kumar', 'shiva')"
   ]
  },
  {
   "cell_type": "markdown",
   "id": "c805a0f3-bae0-4848-a132-94433315a0fc",
   "metadata": {},
   "source": [
    "### 19. Convert a string to title case (e.g., \"hello world\" to \"Hello World\")"
   ]
  },
  {
   "cell_type": "code",
   "execution_count": 88,
   "id": "b48793e0-4c72-4610-bc27-34ee0598229f",
   "metadata": {
    "tags": []
   },
   "outputs": [],
   "source": [
    "def convert_to_title_case(text):\n",
    "    if text is not None:\n",
    "        return text.title() \n",
    "    return text"
   ]
  },
  {
   "cell_type": "code",
   "execution_count": 89,
   "id": "8eef55c4-2b3a-4221-9035-f5ac8c3d4c3c",
   "metadata": {
    "tags": []
   },
   "outputs": [
    {
     "data": {
      "text/plain": [
       "'Hello World'"
      ]
     },
     "execution_count": 89,
     "metadata": {},
     "output_type": "execute_result"
    }
   ],
   "source": [
    "convert_to_title_case('hello world')"
   ]
  },
  {
   "cell_type": "code",
   "execution_count": 91,
   "id": "3ee51612-1cd8-4f56-be77-462665c1af4a",
   "metadata": {
    "tags": []
   },
   "outputs": [],
   "source": [
    "convert_to_title_case(None)"
   ]
  },
  {
   "cell_type": "markdown",
   "id": "5f2a307a-5c2e-4f34-b7c4-4294f194af2b",
   "metadata": {},
   "source": [
    "### 20. Find the longest word in a string."
   ]
  },
  {
   "cell_type": "code",
   "execution_count": 95,
   "id": "d13cfc13-fa0a-40ee-9843-aafdc2a9a390",
   "metadata": {
    "tags": []
   },
   "outputs": [],
   "source": [
    "def find_longest_word(text):\n",
    "    longest_word = \"\"\n",
    "    for word in text.split():\n",
    "        if len(word) > len(longest_word):  \n",
    "            longest_word = word\n",
    "    return longest_word"
   ]
  },
  {
   "cell_type": "code",
   "execution_count": 96,
   "id": "c12b70bc-6002-46f8-b759-1f01c2d669e7",
   "metadata": {
    "tags": []
   },
   "outputs": [
    {
     "data": {
      "text/plain": [
       "'bhavishya'"
      ]
     },
     "execution_count": 96,
     "metadata": {},
     "output_type": "execute_result"
    }
   ],
   "source": [
    "find_longest_word('ruchit shiva teja bhavishya')"
   ]
  },
  {
   "cell_type": "markdown",
   "id": "4eddf87c-52ab-47c0-8848-2857c3d65958",
   "metadata": {},
   "source": [
    "### 21. Find the shortest word in a string."
   ]
  },
  {
   "cell_type": "code",
   "execution_count": 102,
   "id": "709d708b-3942-4369-8546-1ec513cf141b",
   "metadata": {
    "tags": []
   },
   "outputs": [],
   "source": [
    "def find_shortest_word(text):\n",
    "    shortest_word = None\n",
    "    # short_len = None\n",
    "    for word in text.split():\n",
    "        if shortest_word is None:\n",
    "            shortest_word = word\n",
    "            short_len = len(shortest_word)\n",
    "            \n",
    "        if len(shortest_word) < short_len :\n",
    "            shortest_word = word\n",
    "            short_len = len(shortest_word)\n",
    "            \n",
    "    return shortest_word"
   ]
  },
  {
   "cell_type": "code",
   "execution_count": 116,
   "id": "1b8782ef-f4d2-42dc-8c24-d1992a2287cf",
   "metadata": {
    "tags": []
   },
   "outputs": [],
   "source": [
    "def find_shortest_word(text):\n",
    "    shortest_word = None\n",
    "    for word in text.split():\n",
    "        shortest_word = word if shortest_word is None else shortest_word\n",
    "        if len(word) < len(shortest_word)   :\n",
    "            shortest_word = word \n",
    "    return shortest_word       "
   ]
  },
  {
   "cell_type": "code",
   "execution_count": 117,
   "id": "71c3f43f-28d3-4fe9-9818-d8c1865ffb58",
   "metadata": {
    "tags": []
   },
   "outputs": [
    {
     "data": {
      "text/plain": [
       "'teja'"
      ]
     },
     "execution_count": 117,
     "metadata": {},
     "output_type": "execute_result"
    }
   ],
   "source": [
    "find_shortest_word('ruchit shiva teja bhavishya')"
   ]
  },
  {
   "cell_type": "code",
   "execution_count": 118,
   "id": "961830ec-7864-42fd-9d8a-ca57b1a6d838",
   "metadata": {
    "tags": []
   },
   "outputs": [
    {
     "data": {
      "text/plain": [
       "'teja'"
      ]
     },
     "execution_count": 118,
     "metadata": {},
     "output_type": "execute_result"
    }
   ],
   "source": [
    "# Short way\n",
    "text = 'ruchit shiva teja bhavishya'\n",
    "min(text.split(), key=len)"
   ]
  },
  {
   "cell_type": "markdown",
   "id": "28da1a30-be32-4dfd-af84-5285635dd26a",
   "metadata": {},
   "source": [
    "## 22. Reverse the order of words in a string"
   ]
  },
  {
   "cell_type": "code",
   "execution_count": 136,
   "id": "6dc71633-b45e-4965-b76d-52258267fffc",
   "metadata": {
    "tags": []
   },
   "outputs": [],
   "source": [
    "def reverse_words(text : str):\n",
    "    words = text.split()\n",
    "    reverse_text = \"\"\n",
    "    for i in reversed(range(len(words))):\n",
    "        reverse_text = reverse_text + \" \" + words[i]\n",
    "    return reverse_text.strip()"
   ]
  },
  {
   "cell_type": "code",
   "execution_count": 137,
   "id": "1f563ba1-fad4-486b-86e4-a517e899f60b",
   "metadata": {
    "tags": []
   },
   "outputs": [
    {
     "data": {
      "text/plain": [
       "'Python in Programming'"
      ]
     },
     "execution_count": 137,
     "metadata": {},
     "output_type": "execute_result"
    }
   ],
   "source": [
    "reverse_words(\"Programming in Python\")"
   ]
  },
  {
   "cell_type": "markdown",
   "id": "85070313-44c6-456a-b2c5-642ca8638136",
   "metadata": {
    "tags": []
   },
   "source": [
    "## 23. Check if a string is alphanumeric."
   ]
  },
  {
   "cell_type": "code",
   "execution_count": 166,
   "id": "aab8e11a-d52b-4d55-ba36-2c29cf65e5c0",
   "metadata": {
    "tags": []
   },
   "outputs": [],
   "source": [
    "def is_alphanumeric(text : str):\n",
    "    for c in text:\n",
    "        if c.isalpha() or c.isdigit():\n",
    "            continue\n",
    "        else:\n",
    "            return False\n",
    "    return True"
   ]
  },
  {
   "cell_type": "code",
   "execution_count": 167,
   "id": "d1ea7519-5c5c-42ea-83c3-7e8c58308153",
   "metadata": {
    "tags": []
   },
   "outputs": [
    {
     "data": {
      "text/plain": [
       "False"
      ]
     },
     "execution_count": 167,
     "metadata": {},
     "output_type": "execute_result"
    }
   ],
   "source": [
    "is_alphanumeric(\"satishkumar@gmail.com\")"
   ]
  },
  {
   "cell_type": "code",
   "execution_count": 168,
   "id": "a2c9bb91-6bbf-44fe-8622-22b53995ad74",
   "metadata": {
    "tags": []
   },
   "outputs": [
    {
     "data": {
      "text/plain": [
       "True"
      ]
     },
     "execution_count": 168,
     "metadata": {},
     "output_type": "execute_result"
    }
   ],
   "source": [
    "is_alphanumeric(\"satishkumar29\")"
   ]
  },
  {
   "cell_type": "markdown",
   "id": "0793e30e-11f9-413d-801d-31e4420a785d",
   "metadata": {},
   "source": [
    "## 24. Extract all digits from a string."
   ]
  },
  {
   "cell_type": "code",
   "execution_count": 163,
   "id": "4995bb6e-5710-482a-9d90-242aca6842cc",
   "metadata": {
    "tags": []
   },
   "outputs": [],
   "source": [
    "def extract_all_digits(text : str):\n",
    "    digits=[]\n",
    "    for c in text:\n",
    "        if c.isdigit():\n",
    "            digits.append(c)        \n",
    "    return digits"
   ]
  },
  {
   "cell_type": "code",
   "execution_count": 164,
   "id": "e6772be3-9692-4cf4-bf6f-9854bb82f3fd",
   "metadata": {
    "tags": []
   },
   "outputs": [
    {
     "data": {
      "text/plain": [
       "['2', '9']"
      ]
     },
     "execution_count": 164,
     "metadata": {},
     "output_type": "execute_result"
    }
   ],
   "source": [
    "extract_all_digits(\"satishkumar29\")"
   ]
  },
  {
   "cell_type": "code",
   "execution_count": 165,
   "id": "0c789b69-7367-41a7-94f0-85c440dcf18d",
   "metadata": {
    "tags": []
   },
   "outputs": [
    {
     "data": {
      "text/plain": [
       "['1', '2', '3']"
      ]
     },
     "execution_count": 165,
     "metadata": {},
     "output_type": "execute_result"
    }
   ],
   "source": [
    "extract_all_digits(\"ruchit1 shiva2 kumar3\")"
   ]
  },
  {
   "cell_type": "markdown",
   "id": "1ae5ebc7-6b9d-4875-9de7-2630a908dd88",
   "metadata": {},
   "source": [
    "## 25. Extract all alphabets from a string."
   ]
  },
  {
   "cell_type": "code",
   "execution_count": 169,
   "id": "88df2f92-73c5-4993-b41a-3dfd9b33e94e",
   "metadata": {
    "tags": []
   },
   "outputs": [],
   "source": [
    "def extract_all_alphabets(text : str):\n",
    "    alphabets=[]\n",
    "    for c in text:\n",
    "        if c.isalpha():\n",
    "            alphabets.append(c)        \n",
    "    return alphabets"
   ]
  },
  {
   "cell_type": "code",
   "execution_count": 170,
   "id": "5a23dfd4-4b78-4ad3-8833-03cd414b052e",
   "metadata": {
    "tags": []
   },
   "outputs": [
    {
     "data": {
      "text/plain": [
       "['s', 'a', 't', 'i', 's', 'h']"
      ]
     },
     "execution_count": 170,
     "metadata": {},
     "output_type": "execute_result"
    }
   ],
   "source": [
    "extract_all_alphabets(\"satish129\")"
   ]
  },
  {
   "cell_type": "markdown",
   "id": "f6e73017-10c2-4fab-a1a1-6e91ff106b5e",
   "metadata": {},
   "source": [
    "## 26. Count the number of uppercase letters in a string"
   ]
  },
  {
   "cell_type": "code",
   "execution_count": 171,
   "id": "8a363edf-b4f4-4c87-973f-e43f0806443b",
   "metadata": {
    "tags": []
   },
   "outputs": [],
   "source": [
    "def extract_all_upperalphabets(text : str):\n",
    "    alphabets=[]\n",
    "    for c in text:\n",
    "        if c.isupper():\n",
    "            alphabets.append(c)        \n",
    "    return alphabets"
   ]
  },
  {
   "cell_type": "code",
   "execution_count": 172,
   "id": "3067aad0-848d-49a0-a7a4-a28ac8ef5886",
   "metadata": {
    "tags": []
   },
   "outputs": [
    {
     "data": {
      "text/plain": [
       "[]"
      ]
     },
     "execution_count": 172,
     "metadata": {},
     "output_type": "execute_result"
    }
   ],
   "source": [
    "extract_all_upperalphabets(\"satish129\")"
   ]
  },
  {
   "cell_type": "code",
   "execution_count": 173,
   "id": "992589c5-430b-4626-b80b-b7610d99fb58",
   "metadata": {
    "tags": []
   },
   "outputs": [
    {
     "data": {
      "text/plain": [
       "['S', 'K']"
      ]
     },
     "execution_count": 173,
     "metadata": {},
     "output_type": "execute_result"
    }
   ],
   "source": [
    "extract_all_upperalphabets(\"SatishKumar\")"
   ]
  },
  {
   "cell_type": "markdown",
   "id": "8ab233aa-1d7c-4669-be7a-5f3152f94812",
   "metadata": {},
   "source": [
    "## 27. Count the number of lowercase letters in a string."
   ]
  },
  {
   "cell_type": "code",
   "execution_count": 174,
   "id": "63766d5e-d95d-4f49-a5d6-1e7ff3b2c3c1",
   "metadata": {
    "tags": []
   },
   "outputs": [],
   "source": [
    "def extract_all_loweralphabets(text : str):\n",
    "    alphabets=[]\n",
    "    for c in text:\n",
    "        if c.islower():\n",
    "            alphabets.append(c)        \n",
    "    return alphabets"
   ]
  },
  {
   "cell_type": "code",
   "execution_count": 175,
   "id": "54fddb29-f1c4-48a9-b674-6a5d5c48f2f3",
   "metadata": {
    "tags": []
   },
   "outputs": [
    {
     "data": {
      "text/plain": [
       "['k', 'u', 'm', 'a', 'r']"
      ]
     },
     "execution_count": 175,
     "metadata": {},
     "output_type": "execute_result"
    }
   ],
   "source": [
    "extract_all_loweralphabets(\"SATISHkumar\")"
   ]
  },
  {
   "cell_type": "code",
   "execution_count": 176,
   "id": "9b257524-551e-40a2-b4c2-7b51160e8011",
   "metadata": {
    "tags": []
   },
   "outputs": [
    {
     "data": {
      "text/plain": [
       "[]"
      ]
     },
     "execution_count": 176,
     "metadata": {},
     "output_type": "execute_result"
    }
   ],
   "source": [
    "extract_all_loweralphabets(\"KUMAR123\")"
   ]
  },
  {
   "cell_type": "markdown",
   "id": "43fb866d-8675-434b-a792-a178f3a97ea7",
   "metadata": {},
   "source": [
    "## 28. Swap the case of each character in a string."
   ]
  },
  {
   "cell_type": "code",
   "execution_count": 181,
   "id": "d5cd5d62-8fd2-4976-9b1e-d00a3048b6b6",
   "metadata": {
    "tags": []
   },
   "outputs": [],
   "source": [
    "def swap_case_text(text : str):\n",
    "    result = \"\"\n",
    "    for c in text:\n",
    "        if c.islower():\n",
    "            result = result + c.upper()\n",
    "        elif c.isupper():\n",
    "            result = result + c.lower()\n",
    "        else:\n",
    "            result = result + c\n",
    "        \n",
    "    return result.strip()"
   ]
  },
  {
   "cell_type": "code",
   "execution_count": 183,
   "id": "260cbde4-cd1d-4189-9e93-6d8abe63de61",
   "metadata": {
    "tags": []
   },
   "outputs": [
    {
     "data": {
      "text/plain": [
       "'satish.KUMAR123'"
      ]
     },
     "execution_count": 183,
     "metadata": {},
     "output_type": "execute_result"
    }
   ],
   "source": [
    "swap_case_text(\"SATISH.kumar123\")"
   ]
  },
  {
   "cell_type": "markdown",
   "id": "bddcdccf-9d87-42df-bdf9-a6838682edf0",
   "metadata": {},
   "source": [
    "## 29. Remove a specific word from a string."
   ]
  },
  {
   "cell_type": "code",
   "execution_count": 184,
   "id": "e2dc8d77-1a05-4290-a852-6dbefe91b967",
   "metadata": {
    "tags": []
   },
   "outputs": [],
   "source": [
    "def remove_word(text: str, word : str):\n",
    "    return text.replace(word,'')"
   ]
  },
  {
   "cell_type": "code",
   "execution_count": 185,
   "id": "1292bb02-2ac8-489a-9fd1-bee2435cc23a",
   "metadata": {
    "tags": []
   },
   "outputs": [
    {
     "data": {
      "text/plain": [
       "'SATISH.'"
      ]
     },
     "execution_count": 185,
     "metadata": {},
     "output_type": "execute_result"
    }
   ],
   "source": [
    "remove_word(\"SATISH.kumar\", \"kumar\")"
   ]
  },
  {
   "cell_type": "markdown",
   "id": "3d48f63b-2425-4dbe-9aa4-98c32a71fdff",
   "metadata": {},
   "source": [
    "## 30. Check if a string is a valid email address"
   ]
  },
  {
   "cell_type": "code",
   "execution_count": 189,
   "id": "97df6f34-8620-48de-8b1b-4ceb4778fe2c",
   "metadata": {
    "tags": []
   },
   "outputs": [],
   "source": [
    "import re\n",
    "def is_valid_emailaddress(email_address :str):\n",
    "    email_pattern = r\"\\\"?([-a-zA-Z0-9.`?{}]+@\\w+\\.\\w+)\\\"?\"\n",
    "    return bool(re.match(email_pattern, email_address))\n",
    "    "
   ]
  },
  {
   "cell_type": "code",
   "execution_count": 190,
   "id": "4cc67daf-ea3c-4572-bf19-2b0bdc7a8aa9",
   "metadata": {
    "tags": []
   },
   "outputs": [
    {
     "data": {
      "text/plain": [
       "True"
      ]
     },
     "execution_count": 190,
     "metadata": {},
     "output_type": "execute_result"
    }
   ],
   "source": [
    "is_valid_emailaddress('satish.kumar123@gmail.com')"
   ]
  },
  {
   "cell_type": "code",
   "execution_count": 191,
   "id": "2a3105e9-2064-4872-ba30-b68976453e87",
   "metadata": {
    "tags": []
   },
   "outputs": [
    {
     "data": {
      "text/plain": [
       "False"
      ]
     },
     "execution_count": 191,
     "metadata": {},
     "output_type": "execute_result"
    }
   ],
   "source": [
    "is_valid_emailaddress('satish.kumar123gmail.com')"
   ]
  },
  {
   "cell_type": "code",
   "execution_count": 192,
   "id": "91bbfa79-801c-4ee4-8b3a-6e280afa61e8",
   "metadata": {
    "tags": []
   },
   "outputs": [
    {
     "data": {
      "text/plain": [
       "False"
      ]
     },
     "execution_count": 192,
     "metadata": {},
     "output_type": "execute_result"
    }
   ],
   "source": [
    "is_valid_emailaddress('satish.kumar123@gmail')"
   ]
  },
  {
   "cell_type": "markdown",
   "id": "ffe104aa-ad97-4b51-9ef6-6551a9061212",
   "metadata": {},
   "source": [
    "## 31. Extract the username from an email address string."
   ]
  },
  {
   "cell_type": "code",
   "execution_count": 195,
   "id": "6617f530-7c2f-473d-85f0-451ba16611f9",
   "metadata": {
    "tags": []
   },
   "outputs": [],
   "source": [
    "def get_email_username(email_address : str):\n",
    "    return email_address.split('@')[0]"
   ]
  },
  {
   "cell_type": "code",
   "execution_count": 196,
   "id": "78ef5776-44ae-4830-9f36-2976b3c3944b",
   "metadata": {
    "tags": []
   },
   "outputs": [
    {
     "data": {
      "text/plain": [
       "'satish.kumar123'"
      ]
     },
     "execution_count": 196,
     "metadata": {},
     "output_type": "execute_result"
    }
   ],
   "source": [
    "get_email_username('satish.kumar123@gmail.com')"
   ]
  },
  {
   "cell_type": "code",
   "execution_count": 198,
   "id": "8af5e879-6dbf-4930-95f4-d7abddf4072b",
   "metadata": {
    "tags": []
   },
   "outputs": [],
   "source": [
    "import re\n",
    "def get_email_username_using_regex(email_address : str):\n",
    "    regex_str = r'^([^@]+)@[^@]+$'\n",
    "    match = re.search(regex_str, email_address)\n",
    "    if not match is None:\n",
    "        return match.group(1)    \n",
    "    return None"
   ]
  },
  {
   "cell_type": "code",
   "execution_count": 199,
   "id": "b08fe774-41a6-4a5c-a5b9-ab9b88e2d56e",
   "metadata": {
    "tags": []
   },
   "outputs": [
    {
     "data": {
      "text/plain": [
       "'satish.kumar123'"
      ]
     },
     "execution_count": 199,
     "metadata": {},
     "output_type": "execute_result"
    }
   ],
   "source": [
    "get_email_username_using_regex('satish.kumar123@gmail.com')"
   ]
  },
  {
   "cell_type": "markdown",
   "id": "e2c08eee-734f-4201-ae6e-c8c277721d9c",
   "metadata": {},
   "source": [
    "## 32. Extract the domain name from an email address string."
   ]
  },
  {
   "cell_type": "code",
   "execution_count": 202,
   "id": "1979ef71-32ae-4997-99e3-1f89c288d4ff",
   "metadata": {
    "tags": []
   },
   "outputs": [],
   "source": [
    "def get_email_domain(email_address : str):\n",
    "    return (email_address.split('@')[1]).split('.')[0]"
   ]
  },
  {
   "cell_type": "code",
   "execution_count": 203,
   "id": "9878909e-8a4b-4893-a32d-b37827f0e8f5",
   "metadata": {
    "tags": []
   },
   "outputs": [
    {
     "data": {
      "text/plain": [
       "'gmail'"
      ]
     },
     "execution_count": 203,
     "metadata": {},
     "output_type": "execute_result"
    }
   ],
   "source": [
    "get_email_domain('satish.kumar123@gmail.com')"
   ]
  },
  {
   "cell_type": "code",
   "execution_count": 216,
   "id": "07db3152-d04f-48e2-92a6-4b247945c373",
   "metadata": {
    "tags": []
   },
   "outputs": [],
   "source": [
    "import re\n",
    "def get_email_domain_using_regex(email_address : str):\n",
    "    match = re.search(\"@[\\w]+\", email_address)\n",
    "    if not match is None:\n",
    "        return match.group()    \n",
    "    return None"
   ]
  },
  {
   "cell_type": "code",
   "execution_count": 217,
   "id": "86eccd8e-1091-4758-964a-7cd5f4b02441",
   "metadata": {
    "tags": []
   },
   "outputs": [
    {
     "data": {
      "text/plain": [
       "'@gmail'"
      ]
     },
     "execution_count": 217,
     "metadata": {},
     "output_type": "execute_result"
    }
   ],
   "source": [
    "get_email_domain_using_regex('satish.kumar123@gmail.com')"
   ]
  },
  {
   "cell_type": "markdown",
   "id": "d68f1bb7-820d-4af0-aca5-bde43800203a",
   "metadata": {},
   "source": [
    "## 33. Replace multiple spaces in a string with a single space"
   ]
  },
  {
   "cell_type": "code",
   "execution_count": 219,
   "id": "ee8328e7-b4ad-4483-a332-45791f3b5b63",
   "metadata": {
    "tags": []
   },
   "outputs": [],
   "source": [
    "input_text = \"satish    kumar   129\""
   ]
  },
  {
   "cell_type": "code",
   "execution_count": 220,
   "id": "3aff8eab-c090-42f6-89a6-ad8a3d0a81f7",
   "metadata": {
    "tags": []
   },
   "outputs": [
    {
     "data": {
      "text/plain": [
       "'satish kumar 129'"
      ]
     },
     "execution_count": 220,
     "metadata": {},
     "output_type": "execute_result"
    }
   ],
   "source": [
    "\" \".join(input_text.split())"
   ]
  },
  {
   "cell_type": "code",
   "execution_count": 221,
   "id": "7f819c7e-6d86-4c49-bf90-339d016df5a7",
   "metadata": {
    "tags": []
   },
   "outputs": [
    {
     "data": {
      "text/plain": [
       "'satish kumar 129'"
      ]
     },
     "execution_count": 221,
     "metadata": {},
     "output_type": "execute_result"
    }
   ],
   "source": [
    "import re\n",
    "re.sub(' +', ' ',input_text)"
   ]
  },
  {
   "cell_type": "markdown",
   "id": "288da35e-a1cc-436a-9a48-1f892aa75073",
   "metadata": {},
   "source": [
    "## 34. Check if a string is a valid URL."
   ]
  },
  {
   "cell_type": "code",
   "execution_count": 245,
   "id": "a43ea808-4981-41d6-9330-d8d4049fbe87",
   "metadata": {
    "tags": []
   },
   "outputs": [],
   "source": [
    "import re\n",
    "def is_valid_url(url):\n",
    "    pattern = r'^(https?|ftp)://[^\\s/$.?#].[^\\s]*$'\n",
    "    return bool(re.match(pattern, url) is not None)"
   ]
  },
  {
   "cell_type": "code",
   "execution_count": 246,
   "id": "25fea9b9-9bff-48ba-98fc-7584f2e268cb",
   "metadata": {
    "tags": []
   },
   "outputs": [
    {
     "data": {
      "text/plain": [
       "True"
      ]
     },
     "execution_count": 246,
     "metadata": {},
     "output_type": "execute_result"
    }
   ],
   "source": [
    "is_valid_url(\"http://www.bigdataplaybook.wordpress.com\")"
   ]
  },
  {
   "cell_type": "code",
   "execution_count": 247,
   "id": "d44ae596-27dc-48a1-80e0-da6ebd07076b",
   "metadata": {
    "tags": []
   },
   "outputs": [
    {
     "data": {
      "text/plain": [
       "False"
      ]
     },
     "execution_count": 247,
     "metadata": {},
     "output_type": "execute_result"
    }
   ],
   "source": [
    "is_valid_url(\"bigdataplaybook\")"
   ]
  },
  {
   "cell_type": "markdown",
   "id": "9f5a431e-f643-4c2d-82eb-fbb298d05d93",
   "metadata": {},
   "source": [
    "## 35. Extract the protocol (http or https) from a URL string."
   ]
  },
  {
   "cell_type": "code",
   "execution_count": 258,
   "id": "639aa198-0803-4fd9-9975-53cb09030d3b",
   "metadata": {
    "tags": []
   },
   "outputs": [],
   "source": [
    "def extract_protocol(url):\n",
    "    protocol = url.split(':')\n",
    "    if len(protocol) > 1:    \n",
    "        return protocol[0]\n",
    "    return None"
   ]
  },
  {
   "cell_type": "code",
   "execution_count": 259,
   "id": "a9642006-9f2b-4f74-a1b3-36f7e46e1215",
   "metadata": {
    "tags": []
   },
   "outputs": [
    {
     "data": {
      "text/plain": [
       "'http'"
      ]
     },
     "execution_count": 259,
     "metadata": {},
     "output_type": "execute_result"
    }
   ],
   "source": [
    "extract_protocol(\"http://www.bigdataplaybook.wordpress.com\")"
   ]
  },
  {
   "cell_type": "code",
   "execution_count": 260,
   "id": "ce40a5e5-f15d-489f-ac19-92a349bad0a8",
   "metadata": {
    "tags": []
   },
   "outputs": [],
   "source": [
    "extract_protocol(\"www.bigdataplaybook.wordpress.com\")"
   ]
  },
  {
   "cell_type": "code",
   "execution_count": 261,
   "id": "97edd787-9109-4d51-acf4-08861ea7f2cf",
   "metadata": {
    "tags": []
   },
   "outputs": [],
   "source": [
    "from urllib.parse import urlparse\n",
    "def extract_protocol(url):\n",
    "    parsed_url = urlparse(url)\n",
    "    return parsed_url.scheme"
   ]
  },
  {
   "cell_type": "code",
   "execution_count": 262,
   "id": "6bf01740-01e3-4eeb-9587-eb1a5a8d0699",
   "metadata": {
    "tags": []
   },
   "outputs": [
    {
     "data": {
      "text/plain": [
       "'http'"
      ]
     },
     "execution_count": 262,
     "metadata": {},
     "output_type": "execute_result"
    }
   ],
   "source": [
    "extract_protocol(\"http://www.bigdataplaybook.wordpress.com\")"
   ]
  },
  {
   "cell_type": "code",
   "execution_count": 264,
   "id": "1f03c9d0-76ed-4e2b-9e60-6462a876aa4a",
   "metadata": {
    "tags": []
   },
   "outputs": [
    {
     "data": {
      "text/plain": [
       "''"
      ]
     },
     "execution_count": 264,
     "metadata": {},
     "output_type": "execute_result"
    }
   ],
   "source": [
    "extract_protocol(\"www.bigdataplaybook.wordpress.com\")"
   ]
  },
  {
   "cell_type": "markdown",
   "id": "5c7b28c3-5e11-43a2-b66b-371c10f9854d",
   "metadata": {
    "tags": []
   },
   "source": [
    "## 36. Find the frequency of each character in a string."
   ]
  },
  {
   "cell_type": "code",
   "execution_count": 268,
   "id": "a9b7f5ac-4eac-4bab-a1b2-28e4a6f8a585",
   "metadata": {
    "tags": []
   },
   "outputs": [],
   "source": [
    "def find_frequency_char(text : str):\n",
    "    freq_char = {}\n",
    "    for char in text:\n",
    "        freq_char[char] = freq_char.get(char, 0) + 1\n",
    "    return freq_char"
   ]
  },
  {
   "cell_type": "code",
   "execution_count": 269,
   "id": "f7d1450d-d32e-489f-ac85-414193860fc0",
   "metadata": {
    "tags": []
   },
   "outputs": [
    {
     "data": {
      "text/plain": [
       "{'p': 2,\n",
       " 'y': 1,\n",
       " 't': 1,\n",
       " 'h': 1,\n",
       " 'o': 2,\n",
       " 'n': 2,\n",
       " ' ': 1,\n",
       " 'r': 2,\n",
       " 'g': 2,\n",
       " 'a': 1,\n",
       " 'm': 2,\n",
       " 'i': 1}"
      ]
     },
     "execution_count": 269,
     "metadata": {},
     "output_type": "execute_result"
    }
   ],
   "source": [
    "find_frequency_char('python programming')"
   ]
  },
  {
   "cell_type": "markdown",
   "id": "46e4ad29-a5c3-4a27-b3a7-d052c584f8ad",
   "metadata": {},
   "source": [
    "## 37. Remove all punctuation from a string."
   ]
  },
  {
   "cell_type": "code",
   "execution_count": 272,
   "id": "63d23413-39d5-4988-9317-6515f533885f",
   "metadata": {
    "tags": []
   },
   "outputs": [],
   "source": [
    "def remove_punctuation(input_string):\n",
    "    punct_chars = \"!\\\"#$%&'()*+,-./:;<=>?@[\\\\]^_`{|}~\"\n",
    "    result_string = \"\"\n",
    "    for char in input_string:\n",
    "        if char not in punct_chars:\n",
    "            result_string += char\n",
    "    return result_string"
   ]
  },
  {
   "cell_type": "code",
   "execution_count": 273,
   "id": "943c6a93-4eea-40c5-8ef7-76e918b064a2",
   "metadata": {
    "tags": []
   },
   "outputs": [
    {
     "data": {
      "text/plain": [
       "'python programming'"
      ]
     },
     "execution_count": 273,
     "metadata": {},
     "output_type": "execute_result"
    }
   ],
   "source": [
    "remove_punctuation('python ?_programming#!')"
   ]
  },
  {
   "cell_type": "markdown",
   "id": "92318a06-9887-4ea0-bc91-8251d26c23a1",
   "metadata": {
    "tags": []
   },
   "source": [
    "## 38. Check if a string contains only digits."
   ]
  },
  {
   "cell_type": "code",
   "execution_count": 275,
   "id": "f96a622e-7187-415c-a5ca-e0cd8d4b0c8e",
   "metadata": {
    "tags": []
   },
   "outputs": [],
   "source": [
    "def is_contains_only_digit(text : str):\n",
    "    for c in text:\n",
    "        if c.isdigit():\n",
    "            continue\n",
    "        else:\n",
    "            return False\n",
    "    return True"
   ]
  },
  {
   "cell_type": "code",
   "execution_count": 276,
   "id": "8ce5793d-9cd5-4b94-b61a-1e58e77b6ae0",
   "metadata": {
    "tags": []
   },
   "outputs": [
    {
     "data": {
      "text/plain": [
       "False"
      ]
     },
     "execution_count": 276,
     "metadata": {},
     "output_type": "execute_result"
    }
   ],
   "source": [
    "is_contains_only_digit('python123')"
   ]
  },
  {
   "cell_type": "code",
   "execution_count": 277,
   "id": "2f0445be-fe55-49e4-a0ea-d70f31c47520",
   "metadata": {
    "tags": []
   },
   "outputs": [
    {
     "data": {
      "text/plain": [
       "True"
      ]
     },
     "execution_count": 277,
     "metadata": {},
     "output_type": "execute_result"
    }
   ],
   "source": [
    "is_contains_only_digit('12345')"
   ]
  },
  {
   "cell_type": "markdown",
   "id": "c43ce48b-1f7c-4a55-8556-9abbd32bed70",
   "metadata": {},
   "source": [
    "## 39. Check if a string contains only alphabets."
   ]
  },
  {
   "cell_type": "code",
   "execution_count": 278,
   "id": "01009d18-0c34-48a6-aa1c-d456a0b0ec5a",
   "metadata": {
    "tags": []
   },
   "outputs": [],
   "source": [
    "def is_contains_only_aplha(text : str):\n",
    "    for c in text:\n",
    "        if c.isalpha():\n",
    "            continue\n",
    "        else:\n",
    "            return False\n",
    "    return True"
   ]
  },
  {
   "cell_type": "code",
   "execution_count": 279,
   "id": "1d568ae2-5af9-4071-8bd6-4ad293a1c900",
   "metadata": {
    "tags": []
   },
   "outputs": [
    {
     "data": {
      "text/plain": [
       "False"
      ]
     },
     "execution_count": 279,
     "metadata": {},
     "output_type": "execute_result"
    }
   ],
   "source": [
    "is_contains_only_aplha('python123')"
   ]
  },
  {
   "cell_type": "code",
   "execution_count": 280,
   "id": "0bac27f7-f731-4bba-bec1-f3323e86d5a9",
   "metadata": {
    "tags": []
   },
   "outputs": [
    {
     "data": {
      "text/plain": [
       "True"
      ]
     },
     "execution_count": 280,
     "metadata": {},
     "output_type": "execute_result"
    }
   ],
   "source": [
    "is_contains_only_aplha('python')"
   ]
  },
  {
   "cell_type": "markdown",
   "id": "6207cdb4-1fe0-4ac7-b9ce-5c0629a336da",
   "metadata": {
    "tags": []
   },
   "source": [
    "## 40. Convert a string to a list of characters."
   ]
  },
  {
   "cell_type": "code",
   "execution_count": 282,
   "id": "49d0fa7b-c584-4ace-a059-bc699f0fbb1f",
   "metadata": {
    "tags": []
   },
   "outputs": [],
   "source": [
    "def convert_string_chars(text : str):\n",
    "    chars = []\n",
    "    for c in text:\n",
    "        chars.append(c)\n",
    "    return chars"
   ]
  },
  {
   "cell_type": "code",
   "execution_count": 283,
   "id": "7b4e4b13-0579-4f12-89a8-838d15564e62",
   "metadata": {
    "tags": []
   },
   "outputs": [
    {
     "data": {
      "text/plain": [
       "['p', 'y', 't', 'h', 'o', 'n']"
      ]
     },
     "execution_count": 283,
     "metadata": {},
     "output_type": "execute_result"
    }
   ],
   "source": [
    "convert_string_chars('python')"
   ]
  },
  {
   "cell_type": "markdown",
   "id": "7f6610af-14a6-49ea-b90c-69785b7817bc",
   "metadata": {},
   "source": [
    "## 41. Check if two strings are anagrams"
   ]
  },
  {
   "cell_type": "code",
   "execution_count": 284,
   "id": "b487e7b5-0fc6-427c-b579-6eefd9e070cd",
   "metadata": {
    "tags": []
   },
   "outputs": [],
   "source": [
    "def is_strings_anagrams(text1, text2):\n",
    "    text1 = text1.lower().replace(\" \", \"\")\n",
    "    text2 = text2.lower().replace(\" \", \"\")    \n",
    "    return sorted(text1) == sorted(text2)"
   ]
  },
  {
   "cell_type": "code",
   "execution_count": 285,
   "id": "29f19cf9-96d0-4219-ba2f-af9eb7e9b75e",
   "metadata": {
    "tags": []
   },
   "outputs": [
    {
     "data": {
      "text/plain": [
       "True"
      ]
     },
     "execution_count": 285,
     "metadata": {},
     "output_type": "execute_result"
    }
   ],
   "source": [
    "is_strings_anagrams('python','python')"
   ]
  },
  {
   "cell_type": "code",
   "execution_count": 286,
   "id": "2856ed86-dcc9-439b-92a5-d833c70e1501",
   "metadata": {
    "tags": []
   },
   "outputs": [
    {
     "data": {
      "text/plain": [
       "False"
      ]
     },
     "execution_count": 286,
     "metadata": {},
     "output_type": "execute_result"
    }
   ],
   "source": [
    "is_strings_anagrams('python','python1')"
   ]
  },
  {
   "cell_type": "markdown",
   "id": "b5d54be6-c7ff-4ca4-ad9c-baa8a82b18e7",
   "metadata": {
    "tags": []
   },
   "source": [
    "## 42. Encode a string using a Caesar cipher."
   ]
  },
  {
   "cell_type": "code",
   "execution_count": 295,
   "id": "b10e5cfd-5a78-44f3-bd2e-bf869ef1097b",
   "metadata": {
    "tags": []
   },
   "outputs": [],
   "source": [
    "'''\n",
    "A Caesar cipher is a simple and classic encryption technique that shifts the letters of the alphabet by a fixed amount. \n",
    "Function that takes two inputs as arguments: \n",
    " - input string \n",
    " - shift value . \n",
    "'''\n",
    "def encode_caesar_cipher(text, shift):\n",
    "    encoded_cc_text = \"\"    \n",
    "    for char in text:\n",
    "        # apply the Caesar cipher only for alphabets\n",
    "        if char.isalpha():       \n",
    "            # get offset             \n",
    "            offset = ord('A') if char.isupper() else ord('a')            \n",
    "            # Apply the Caesar cipher shift and wrap around the alphabet\n",
    "            cc_char = chr(((ord(char) - offset + shift) % 26) + offset)\n",
    "            encoded_cc_text += cc_char\n",
    "        else:\n",
    "            # Non-alphabetic characters remain unchanged\n",
    "            encoded_cc_text += char    \n",
    "    return encoded_cc_text"
   ]
  },
  {
   "cell_type": "code",
   "execution_count": 296,
   "id": "85db9b50-b214-4290-8796-f278612344fe",
   "metadata": {
    "tags": []
   },
   "outputs": [
    {
     "name": "stdout",
     "output_type": "stream",
     "text": [
      "Sbwkrq Surjudplqj\n"
     ]
    }
   ],
   "source": [
    "encoded_cc_text = encode_caesar_cipher(\"Python Programing\", 3)\n",
    "print(encoded_cc_text)"
   ]
  },
  {
   "cell_type": "markdown",
   "id": "c42b099f-17b4-4aa9-aba5-f4df849a81c7",
   "metadata": {},
   "source": [
    "## 43. Decode a Caesar cipher encoded string"
   ]
  },
  {
   "cell_type": "code",
   "execution_count": 297,
   "id": "f8483356-c03a-4110-81fc-b095e403870d",
   "metadata": {
    "tags": []
   },
   "outputs": [],
   "source": [
    "def decode_caesar_cipher(encoded_text, shift):\n",
    "    decoded_cc_text = \"\"    \n",
    "    for char in encoded_text:\n",
    "        # apply the Caesar cipher only for alphabets\n",
    "        if char.isalpha():\n",
    "            # get offset             \n",
    "            offset = ord('A') if char.isupper() else ord('a')             \n",
    "            # Apply the Caesar cipher shift in reverse and wrap around the alphabet\n",
    "            decoded_char = chr(((ord(char) - offset - shift) % 26) + offset)\n",
    "            decoded_cc_text += decoded_char\n",
    "        else:\n",
    "            # Non-alphabetic characters remain unchanged\n",
    "            decoded_cc_text += char    \n",
    "    return decoded_cc_text"
   ]
  },
  {
   "cell_type": "code",
   "execution_count": 298,
   "id": "558110ee-ad74-4272-9b4f-f70b985f56f9",
   "metadata": {
    "tags": []
   },
   "outputs": [
    {
     "data": {
      "text/plain": [
       "'Python Programing'"
      ]
     },
     "execution_count": 298,
     "metadata": {},
     "output_type": "execute_result"
    }
   ],
   "source": [
    "decode_caesar_cipher('Sbwkrq Surjudplqj', 3)"
   ]
  },
  {
   "cell_type": "markdown",
   "id": "98787c35-be63-4f5e-a8c7-c6d51dc3c984",
   "metadata": {},
   "source": [
    "## 44. Find the most frequent word in a string."
   ]
  },
  {
   "cell_type": "code",
   "execution_count": 319,
   "id": "9bdb2ec3-ec9f-4b42-9819-a32dbab30b54",
   "metadata": {
    "tags": []
   },
   "outputs": [],
   "source": [
    "def get_most_frequent_word(text : str) :\n",
    "    word_count = {}\n",
    "    for word in text.split():\n",
    "        word_count[word] = word_count.get(word, 0) + 1\n",
    "    most_freq_word = max(word_count, key=word_count.get)\n",
    "    return most_freq_word, word_count[most_freq_word]        "
   ]
  },
  {
   "cell_type": "code",
   "execution_count": 320,
   "id": "143dff69-ab12-4ace-bb6f-ec9f761e9f53",
   "metadata": {
    "tags": []
   },
   "outputs": [
    {
     "name": "stdout",
     "output_type": "stream",
     "text": [
      "Most frequent word is 'Python' and frequency '3'\n"
     ]
    }
   ],
   "source": [
    "input_str = \"Python programing Python Python\"\n",
    "word, freq = get_most_frequent_word(input_str)\n",
    "print(f\"Most frequent word is '{word}' and frequency '{freq}'\")"
   ]
  },
  {
   "cell_type": "markdown",
   "id": "1fb1dea9-bc8b-4f57-8292-d6bd8f8ce071",
   "metadata": {},
   "source": [
    "## 45. Find all unique words in a string."
   ]
  },
  {
   "cell_type": "code",
   "execution_count": 324,
   "id": "494c5fce-24ec-4340-925f-e6d42b6378e8",
   "metadata": {
    "tags": []
   },
   "outputs": [],
   "source": [
    "def get_unique_words(text : str):\n",
    "    words = text.split()\n",
    "    return list(set(words))"
   ]
  },
  {
   "cell_type": "code",
   "execution_count": 325,
   "id": "07a11297-f7d2-4613-92a5-3471280c73c6",
   "metadata": {
    "tags": []
   },
   "outputs": [
    {
     "name": "stdout",
     "output_type": "stream",
     "text": [
      "Unique words in the string: ['programing', 'Python']\n"
     ]
    }
   ],
   "source": [
    "input_str = \"Python programing Python Python\"\n",
    "unique_words = get_unique_words(input_str)\n",
    "\n",
    "print(f\"Unique words in the string: {str(unique_words)}\")"
   ]
  },
  {
   "cell_type": "markdown",
   "id": "d65e1b95-3110-47a2-9e61-fc54f2fbf0e7",
   "metadata": {},
   "source": [
    "## 46. Count the number of syllables in a string"
   ]
  },
  {
   "cell_type": "code",
   "execution_count": 328,
   "id": "42b296da-98fc-4f42-91a6-f5375b5963b8",
   "metadata": {
    "tags": []
   },
   "outputs": [],
   "source": [
    "import re\n",
    "def count_num_syllables(text : str):\n",
    "    vowel_pattern = r'[aeiouyAEIOUY]+'\n",
    "    # get all the vowel \n",
    "    vowels = re.findall(vowel_pattern, text)\n",
    "    print(vowels)\n",
    "    return len(vowels)"
   ]
  },
  {
   "cell_type": "code",
   "execution_count": 329,
   "id": "002e13a7-c218-453b-8923-52deef601761",
   "metadata": {
    "tags": []
   },
   "outputs": [
    {
     "name": "stdout",
     "output_type": "stream",
     "text": [
      "['y', 'o', 'o', 'a', 'i']\n",
      "Number of syllables: 5\n"
     ]
    }
   ],
   "source": [
    "input_text = \"Python Programming\"\n",
    "syllables_count = count_num_syllables(input_text)\n",
    "print(f\"Number of syllables: {syllables_count}\")"
   ]
  },
  {
   "cell_type": "markdown",
   "id": "c5f9521f-736c-4e3f-89a2-d4cd7d5eec65",
   "metadata": {},
   "source": [
    "## 47. Check if a string contains any special characters."
   ]
  },
  {
   "cell_type": "code",
   "execution_count": 330,
   "id": "6b194325-86ff-40f8-b5fb-5b6d7266ee76",
   "metadata": {
    "tags": []
   },
   "outputs": [],
   "source": [
    "import re\n",
    "def check_contains_special_char(text : str):\n",
    "    special_char_pattern = r'[^A-Za-z0-9]+'\n",
    "    match = re.search(special_char_pattern, text)\n",
    "    return match is not None"
   ]
  },
  {
   "cell_type": "code",
   "execution_count": 332,
   "id": "504842fd-144d-4069-a4df-2b18ac8589da",
   "metadata": {
    "tags": []
   },
   "outputs": [
    {
     "name": "stdout",
     "output_type": "stream",
     "text": [
      "Input text having Special char: True\n"
     ]
    }
   ],
   "source": [
    "input_text = \"Python$_Programming!\"\n",
    "special_char_count = check_contains_special_char(input_text)\n",
    "print(f\"Input text having Special char: {special_char_count}\")"
   ]
  },
  {
   "cell_type": "markdown",
   "id": "48ff2211-98e6-4bf7-a740-a4b2d5398f01",
   "metadata": {},
   "source": [
    "## 48. Remove the nth word from a string."
   ]
  },
  {
   "cell_type": "code",
   "execution_count": 336,
   "id": "2a3c22f3-e2f9-4216-8b11-6928e1596f00",
   "metadata": {
    "tags": []
   },
   "outputs": [],
   "source": [
    "def remove_n_word(input_text : str, index : int):\n",
    "    final_word = \"\"\n",
    "    for i, word in enumerate(input_text.split(' ')):\n",
    "        if i != index:\n",
    "            final_word += word\n",
    "    return final_word.strip()"
   ]
  },
  {
   "cell_type": "code",
   "execution_count": 337,
   "id": "cd9d5ae5-fca9-45f3-8dd4-9a53b83818ce",
   "metadata": {
    "tags": []
   },
   "outputs": [
    {
     "data": {
      "text/plain": [
       "'ProgrammingPython'"
      ]
     },
     "execution_count": 337,
     "metadata": {},
     "output_type": "execute_result"
    }
   ],
   "source": [
    "input_text = \"Programming in Python\"\n",
    "remove_n_word(input_text, 1)"
   ]
  },
  {
   "cell_type": "markdown",
   "id": "2fe4cece-89b2-408e-8a96-a20c89c8fb7f",
   "metadata": {},
   "source": [
    "## 49. Insert a word at the nth position in a string."
   ]
  },
  {
   "cell_type": "code",
   "execution_count": 364,
   "id": "3bb5ba9c-816e-4e4f-b6b0-799a8405a862",
   "metadata": {
    "tags": []
   },
   "outputs": [],
   "source": [
    "def add_word_index(input_text : str, index : int, new_word:str):\n",
    "    words = input_text.split()\n",
    "    words.insert(index,new_word)\n",
    "    return ' '.join(words)"
   ]
  },
  {
   "cell_type": "code",
   "execution_count": 365,
   "id": "d40c4971-e0a8-4cc6-8665-b56d2af43de7",
   "metadata": {
    "tags": []
   },
   "outputs": [
    {
     "data": {
      "text/plain": [
       "'Programming in Python'"
      ]
     },
     "execution_count": 365,
     "metadata": {},
     "output_type": "execute_result"
    }
   ],
   "source": [
    "input_text = \"Programming Python\"\n",
    "add_word_index(input_text, 1, 'in')"
   ]
  },
  {
   "cell_type": "markdown",
   "id": "234e25c0-aee8-4c51-a7de-c3778d9530d4",
   "metadata": {
    "tags": []
   },
   "source": [
    "## 50. Convert a CSV string to a list of lists."
   ]
  },
  {
   "cell_type": "code",
   "execution_count": 366,
   "id": "bd5d4512-6e09-4b39-a6d9-ec8c7e0daa65",
   "metadata": {
    "tags": []
   },
   "outputs": [],
   "source": [
    "def convert_csv_list(input_str :str):\n",
    "    return input_text.split(',')"
   ]
  },
  {
   "cell_type": "code",
   "execution_count": 368,
   "id": "2a369db4-629e-46e1-95ec-efe08a2543b3",
   "metadata": {
    "tags": []
   },
   "outputs": [
    {
     "data": {
      "text/plain": [
       "['ruchit', 'shiva', 'kumar']"
      ]
     },
     "execution_count": 368,
     "metadata": {},
     "output_type": "execute_result"
    }
   ],
   "source": [
    "input_text = \"ruchit,shiva,kumar\"\n",
    "convert_csv_list(input_text)"
   ]
  }
 ],
 "metadata": {
  "kernelspec": {
   "display_name": "Python 3 (ipykernel)",
   "language": "python",
   "name": "python3"
  },
  "language_info": {
   "codemirror_mode": {
    "name": "ipython",
    "version": 3
   },
   "file_extension": ".py",
   "mimetype": "text/x-python",
   "name": "python",
   "nbconvert_exporter": "python",
   "pygments_lexer": "ipython3",
   "version": "3.11.4"
  }
 },
 "nbformat": 4,
 "nbformat_minor": 5
}
